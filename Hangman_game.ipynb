{
  "nbformat": 4,
  "nbformat_minor": 0,
  "metadata": {
    "colab": {
      "provenance": [],
      "gpuType": "T4",
      "authorship_tag": "ABX9TyMMkHJf8RNmRqeBqkEuot6Q",
      "include_colab_link": true
    },
    "kernelspec": {
      "name": "python3",
      "display_name": "Python 3"
    },
    "language_info": {
      "name": "python"
    },
    "accelerator": "GPU"
  },
  "cells": [
    {
      "cell_type": "markdown",
      "metadata": {
        "id": "view-in-github",
        "colab_type": "text"
      },
      "source": [
        "<a href=\"https://colab.research.google.com/github/Abhiroop17/Python-internship-tasks/blob/main/Hangman_game.ipynb\" target=\"_parent\"><img src=\"https://colab.research.google.com/assets/colab-badge.svg\" alt=\"Open In Colab\"/></a>"
      ]
    },
    {
      "cell_type": "code",
      "execution_count": 1,
      "metadata": {
        "colab": {
          "base_uri": "https://localhost:8080/"
        },
        "id": "NxYAgnxIjk2U",
        "outputId": "501f38d9-5b8c-4e41-b947-3c478616024a"
      },
      "outputs": [
        {
          "output_type": "stream",
          "name": "stdout",
          "text": [
            "Welcome to Hangman!\n",
            "\n",
            "Word: _______\n",
            "Guess a letter: apple\n",
            "Wrong guess! Attempts remaining: 5\n",
            "\n",
            "Word: _______\n",
            "Guess a letter: python\n",
            "Wrong guess! Attempts remaining: 4\n",
            "\n",
            "Word: _______\n",
            "Guess a letter: hangman\n",
            "Wrong guess! Attempts remaining: 3\n",
            "\n",
            "Word: _______\n",
            "Guess a letter: computer\n",
            "Wrong guess! Attempts remaining: 2\n",
            "\n",
            "Word: _______\n",
            "Guess a letter: science\n",
            "Correct guess!\n",
            "\n",
            "Word: _______\n",
            "Guess a letter: coding\n",
            "Wrong guess! Attempts remaining: 1\n",
            "\n",
            "Word: _______\n",
            "Guess a letter: hjdbjd\n",
            "Wrong guess! Attempts remaining: 0\n",
            "Sorry, you ran out of attempts. The word was: science\n"
          ]
        }
      ],
      "source": [
        "import random\n",
        "\n",
        "def choose_word():\n",
        "    words = [\"python\", \"hangman\", \"programming\", \"computer\", \"science\", \"coding\"]\n",
        "    return random.choice(words)\n",
        "\n",
        "def display_word(word, guessed_letters):\n",
        "    display = \"\"\n",
        "    for letter in word:\n",
        "        if letter in guessed_letters:\n",
        "            display += letter\n",
        "        else:\n",
        "            display += \"_\"\n",
        "    return display\n",
        "\n",
        "def hangman():\n",
        "    max_attempts = 6\n",
        "    guessed_letters = []\n",
        "    word_to_guess = choose_word()\n",
        "    attempts = 0\n",
        "\n",
        "    print(\"Welcome to Hangman!\")\n",
        "\n",
        "    while True:\n",
        "        current_display = display_word(word_to_guess, guessed_letters)\n",
        "        print(f\"\\nWord: {current_display}\")\n",
        "        guess = input(\"Guess a letter: \").lower()\n",
        "\n",
        "        if guess in guessed_letters:\n",
        "            print(\"You already guessed that letter. Try again.\")\n",
        "            continue\n",
        "\n",
        "        guessed_letters.append(guess)\n",
        "\n",
        "        if guess not in word_to_guess:\n",
        "            attempts += 1\n",
        "            print(f\"Wrong guess! Attempts remaining: {max_attempts - attempts}\")\n",
        "            if attempts == max_attempts:\n",
        "                print(\"Sorry, you ran out of attempts. The word was:\", word_to_guess)\n",
        "                break\n",
        "        else:\n",
        "            print(\"Correct guess!\")\n",
        "\n",
        "        if set(guessed_letters) >= set(word_to_guess):\n",
        "            print(\"Congratulations! You guessed the word:\", word_to_guess)\n",
        "            break\n",
        "\n",
        "if __name__ == \"__main__\":\n",
        "    hangman()"
      ]
    }
  ]
}