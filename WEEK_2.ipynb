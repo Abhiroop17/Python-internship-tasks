{
  "nbformat": 4,
  "nbformat_minor": 0,
  "metadata": {
    "colab": {
      "provenance": [],
      "gpuType": "T4",
      "authorship_tag": "ABX9TyPz532HtSHlESq1k8s1Ewmw",
      "include_colab_link": true
    },
    "kernelspec": {
      "name": "python3",
      "display_name": "Python 3"
    },
    "language_info": {
      "name": "python"
    },
    "accelerator": "GPU"
  },
  "cells": [
    {
      "cell_type": "markdown",
      "metadata": {
        "id": "view-in-github",
        "colab_type": "text"
      },
      "source": [
        "<a href=\"https://colab.research.google.com/github/Abhiroop17/Python-internship-tasks/blob/main/WEEK_2.ipynb\" target=\"_parent\"><img src=\"https://colab.research.google.com/assets/colab-badge.svg\" alt=\"Open In Colab\"/></a>"
      ]
    },
    {
      "cell_type": "code",
      "execution_count": 1,
      "metadata": {
        "colab": {
          "base_uri": "https://localhost:8080/"
        },
        "id": "34SRtUrekB-B",
        "outputId": "a5c07122-c149-4c56-cdbe-d863f78e5f5a"
      },
      "outputs": [
        {
          "output_type": "stream",
          "name": "stdout",
          "text": [
            "Word frequencies:\n",
            "this: 2\n",
            "is: 2\n",
            "a: 1\n",
            "sample: 1\n",
            "text: 2\n",
            "it: 1\n",
            "contains: 1\n",
            "some: 2\n",
            "words: 2\n",
            "and: 1\n",
            "may: 1\n",
            "be: 1\n",
            "repeated: 1\n",
            "the: 2\n",
            "goal: 1\n",
            "to: 1\n",
            "count: 1\n",
            "frequency: 1\n",
            "of: 1\n",
            "each: 1\n",
            "word: 1\n",
            "in: 1\n"
          ]
        }
      ],
      "source": [
        "from collections import Counter\n",
        "import string\n",
        "\n",
        "def count_word_frequencies(text):\n",
        "    # Remove punctuation and convert text to lowercase\n",
        "    text = text.translate(str.maketrans(\"\", \"\", string.punctuation))\n",
        "    text = text.lower()\n",
        "\n",
        "    # Split the text into words\n",
        "    words = text.split()\n",
        "\n",
        "    # Count word frequencies using Counter\n",
        "    word_frequencies = Counter(words)\n",
        "\n",
        "    return word_frequencies\n",
        "\n",
        "if __name__ == \"__main__\":\n",
        "    # Example text\n",
        "    sample_text = \"\"\"\n",
        "    This is a sample text. It contains some words, and some words may be repeated.\n",
        "    The goal is to count the frequency of each word in this text.\n",
        "    \"\"\"\n",
        "\n",
        "    # Count word frequencies\n",
        "    frequencies = count_word_frequencies(sample_text)\n",
        "\n",
        "    # Print the results\n",
        "    print(\"Word frequencies:\")\n",
        "    for word, frequency in frequencies.items():\n",
        "        print(f\"{word}: {frequency}\")\n"
      ]
    },
    {
      "cell_type": "code",
      "source": [
        "def is_palindrome(word):\n",
        "    # Remove spaces and convert to lowercase for case-insensitive comparison\n",
        "    cleaned_word = ''.join(word.lower().split())\n",
        "\n",
        "    # Check if the cleaned word is equal to its reverse\n",
        "    return cleaned_word == cleaned_word[::-1]\n",
        "\n",
        "if __name__ == \"__main__\":\n",
        "    # Example usage\n",
        "    user_input = input(\"Enter a word: \")\n",
        "\n",
        "    if is_palindrome(user_input):\n",
        "        print(f\"{user_input} is a palindrome!\")\n",
        "    else:\n",
        "        print(f\"{user_input} is not a palindrome.\")\n"
      ],
      "metadata": {
        "colab": {
          "base_uri": "https://localhost:8080/"
        },
        "id": "MW9HBBEklAPH",
        "outputId": "0f174394-4b85-4364-ac4f-e6220cc64f5d"
      },
      "execution_count": 2,
      "outputs": [
        {
          "output_type": "stream",
          "name": "stdout",
          "text": [
            "Enter a word: MOM\n",
            "MOM is a palindrome!\n"
          ]
        }
      ]
    },
    {
      "cell_type": "code",
      "source": [
        "def print_squared_numbers(numbers):\n",
        "    squared_numbers = [num ** 2 for num in numbers]\n",
        "    for original, squared in zip(numbers, squared_numbers):\n",
        "        print(f\"The square of {original} is {squared}\")\n",
        "\n",
        "if __name__ == \"__main__\":\n",
        "    # Example list of numbers\n",
        "    numbers_list = [1, 2, 3, 4, 5, 6, 7, 8]\n",
        "\n",
        "    # Print the square of each number in the list\n",
        "    print_squared_numbers(numbers_list)\n"
      ],
      "metadata": {
        "colab": {
          "base_uri": "https://localhost:8080/"
        },
        "id": "6ivbrPkemQdG",
        "outputId": "d0cba540-fcd2-4de6-f987-0ef013c5015f"
      },
      "execution_count": 3,
      "outputs": [
        {
          "output_type": "stream",
          "name": "stdout",
          "text": [
            "The square of 1 is 1\n",
            "The square of 2 is 4\n",
            "The square of 3 is 9\n",
            "The square of 4 is 16\n",
            "The square of 5 is 25\n"
          ]
        }
      ]
    }
  ]
}