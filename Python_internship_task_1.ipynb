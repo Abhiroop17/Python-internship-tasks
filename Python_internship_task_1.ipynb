{
  "nbformat": 4,
  "nbformat_minor": 0,
  "metadata": {
    "colab": {
      "provenance": []
    },
    "kernelspec": {
      "name": "python3",
      "display_name": "Python 3"
    },
    "language_info": {
      "name": "python"
    }
  },
  "cells": [
    {
      "cell_type": "markdown",
      "source": [
        "**CODE-1**"
      ],
      "metadata": {
        "id": "WLeYYz12ul44"
      }
    },
    {
      "cell_type": "code",
      "source": [
        "def reverse_string(s):\n",
        "    reversed = \"\"\n",
        "    for i in range(len(s) - 1, -1, -1):\n",
        "        reversed += s[i]\n",
        "    return reversed\n",
        "\n",
        "def main():\n",
        "    input_string = \"Hello, world!\"\n",
        "    reversed_string = reverse_string(input_string)\n",
        "    print(f\"Reversed String: {reversed_string}\")\n",
        "\n",
        "if __name__ == \"__main__\":\n",
        "    main()"
      ],
      "metadata": {
        "colab": {
          "base_uri": "https://localhost:8080/"
        },
        "id": "FA11eZOuuQzx",
        "outputId": "c693f936-b3a0-4d26-b5dd-6b7cb3ee6cfe"
      },
      "execution_count": 11,
      "outputs": [
        {
          "output_type": "stream",
          "name": "stdout",
          "text": [
            "Reversed String: !dlrow ,olleH\n"
          ]
        }
      ]
    },
    {
      "cell_type": "markdown",
      "source": [
        "**CODE-2**"
      ],
      "metadata": {
        "id": "w6R9owbPuq8e"
      }
    },
    {
      "cell_type": "code",
      "source": [
        "def get_age():\n",
        "    age = input(\"Please enter your age: \")\n",
        "    if age.isnumeric() and int(age) >= 18:\n",
        "        return int(age)\n",
        "    else:\n",
        "        return None\n",
        "\n",
        "def main():\n",
        "    age = get_age()\n",
        "    if age:\n",
        "        print(f\"You are {age} years old and eligible.\")\n",
        "    else:\n",
        "        print(\"Invalid input. You must be at least 18 years old.\")\n",
        "\n",
        "if __name__ == \"__main__\":\n",
        "    main()\n"
      ],
      "metadata": {
        "colab": {
          "base_uri": "https://localhost:8080/"
        },
        "id": "SZauJxmBuTpn",
        "outputId": "59373baa-5ad0-4c19-a299-1a4e390aaf77"
      },
      "execution_count": 12,
      "outputs": [
        {
          "output_type": "stream",
          "name": "stdout",
          "text": [
            "Please enter your age: 20\n",
            "You are 20 years old and eligible.\n"
          ]
        }
      ]
    },
    {
      "cell_type": "markdown",
      "source": [
        "**CODE-3**"
      ],
      "metadata": {
        "id": "pmk-oAOyuuTP"
      }
    },
    {
      "cell_type": "code",
      "execution_count": 9,
      "metadata": {
        "colab": {
          "base_uri": "https://localhost:8080/"
        },
        "id": "o7BrxOwvfxeG",
        "outputId": "ca725db8-6e81-4e73-8b65-ea1623e3cf0a"
      },
      "outputs": [
        {
          "output_type": "stream",
          "name": "stdout",
          "text": [
            "File 'sample.txt' processed successfully.\n"
          ]
        }
      ],
      "source": [
        "def read_and_write_file(filename):\n",
        "  try:\n",
        "    with open(filename, 'r') as file:\n",
        "      content = file.read()\n",
        "    with open(filename, 'w') as file:\n",
        "     file.write(content.upper())\n",
        "    print(f\"File '{filename}' processed successfully.\")\n",
        "  except Exception as e:\n",
        "    print(f\"An error occurred: {str(e)}\")\n",
        "def main():\n",
        "  filename = \"sample.txt\"\n",
        "  read_and_write_file(filename)\n",
        "if __name__ == \"__main__\":\n",
        "  main()\n"
      ]
    },
    {
      "cell_type": "markdown",
      "source": [
        "**CODE-4**"
      ],
      "metadata": {
        "id": "j0Nfs7DVuyrG"
      }
    },
    {
      "cell_type": "code",
      "source": [
        "def merge_sort(arr):\n",
        "  if len(arr) <= 1:\n",
        "    return arr\n",
        "  mid = len(arr) // 2\n",
        "  left = arr[:mid]\n",
        "  right = arr[mid:]\n",
        "  merge_sort(left)\n",
        "  merge_sort(right)\n",
        "  i = j = k = 0\n",
        "  while i < len(left) and j < len(right):\n",
        "    if left[i] < right[j]:\n",
        "      arr[k] = left[i]\n",
        "      i += 1\n",
        "    else:\n",
        "      arr[k] = right[j]\n",
        "      j += 1\n",
        "    k += 1\n",
        "  while i < len(left):\n",
        "    arr[k] = left[i]\n",
        "    i += 1\n",
        "    k += 1\n",
        "  while j < len(right):\n",
        "    arr[k] = right[j]\n",
        "    j += 1\n",
        "    k += 1\n",
        "arr = [38, 27, 43, 3, 9, 82, 10]\n",
        "merge_sort(arr)\n",
        "print(f\"The sorted array is: {arr}\")"
      ],
      "metadata": {
        "colab": {
          "base_uri": "https://localhost:8080/"
        },
        "id": "AgUo5V2zjRbQ",
        "outputId": "02c78dec-3a59-41b0-bce1-072710b8331c"
      },
      "execution_count": 10,
      "outputs": [
        {
          "output_type": "stream",
          "name": "stdout",
          "text": [
            "The sorted array is: [3, 9, 10, 27, 38, 43, 82]\n"
          ]
        }
      ]
    }
  ]
}